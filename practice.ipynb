{
 "cells": [
  {
   "cell_type": "code",
   "execution_count": 7,
   "metadata": {},
   "outputs": [],
   "source": [
    "import numpy as np\n",
    "import matplotlib.pyplot as plt"
   ]
  },
  {
   "cell_type": "code",
   "execution_count": 8,
   "metadata": {},
   "outputs": [],
   "source": [
    "def f(x):\n",
    "    return x**2"
   ]
  },
  {
   "cell_type": "code",
   "execution_count": 25,
   "metadata": {},
   "outputs": [
    {
     "data": {
      "text/plain": [
       "-4.009999999999891"
      ]
     },
     "execution_count": 25,
     "metadata": {},
     "output_type": "execute_result"
    }
   ],
   "source": [
    "h=0.01\n",
    "x=2\n",
    "d=-((f(x+h)-f(x))/h)\n",
    "d"
   ]
  },
  {
   "cell_type": "code",
   "execution_count": 34,
   "metadata": {},
   "outputs": [
    {
     "data": {
      "text/plain": [
       "3.8412080100000043"
      ]
     },
     "execution_count": 34,
     "metadata": {},
     "output_type": "execute_result"
    }
   ],
   "source": [
    "f((h*d)+x)"
   ]
  },
  {
   "cell_type": "code",
   "execution_count": 52,
   "metadata": {},
   "outputs": [],
   "source": [
    "xs=np.arange(-5, 5, .25)"
   ]
  },
  {
   "cell_type": "code",
   "execution_count": 59,
   "metadata": {},
   "outputs": [
    {
     "name": "stdout",
     "output_type": "stream",
     "text": [
      "1.5899999999999999\n",
      "1.2619999999999996\n",
      "0.9995999999999994\n",
      "0.7896799999999994\n",
      "0.6217439999999995\n",
      "0.4873951999999996\n",
      "0.37991615999999967\n",
      "0.2939329279999997\n",
      "0.22514634239999978\n",
      "0.1701170739199998\n",
      "0.12609365913599985\n",
      "0.09087492730879987\n",
      "0.06269994184703989\n",
      "0.04015995347763191\n",
      "0.02212796278210553\n"
     ]
    }
   ],
   "source": [
    "def der(x, h, f):\n",
    "    return -((f(x+h)-f(x))/h)\n",
    "\n",
    "def derivative(x, h, f):\n",
    "    points=[]\n",
    "    for i in range(15):\n",
    "        slope=der(x,h,f)\n",
    "        x=(h*slope) + x\n",
    "        points.append(x)\n",
    "        print(x)\n",
    "    return points\n",
    "    \n",
    "points=derivative(x=2, h=0.1, f=f)    "
   ]
  },
  {
   "cell_type": "code",
   "execution_count": null,
   "metadata": {},
   "outputs": [],
   "source": []
  },
  {
   "cell_type": "code",
   "execution_count": null,
   "metadata": {},
   "outputs": [],
   "source": []
  }
 ],
 "metadata": {
  "kernelspec": {
   "display_name": "Python 3 (ipykernel)",
   "language": "python",
   "name": "python3"
  },
  "language_info": {
   "codemirror_mode": {
    "name": "ipython",
    "version": 3
   },
   "file_extension": ".py",
   "mimetype": "text/x-python",
   "name": "python",
   "nbconvert_exporter": "python",
   "pygments_lexer": "ipython3",
   "version": "3.10.4"
  }
 },
 "nbformat": 4,
 "nbformat_minor": 2
}
